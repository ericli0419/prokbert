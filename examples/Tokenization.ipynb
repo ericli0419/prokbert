{
 "cells": [
  {
   "cell_type": "code",
   "execution_count": 20,
   "id": "0f962923-876b-4c97-a896-64e573b69a7c",
   "metadata": {},
   "outputs": [
    {
     "name": "stdout",
     "output_type": "stream",
     "text": [
      "The autoreload extension is already loaded. To reload it, use:\n",
      "  %reload_ext autoreload\n",
      "The autoreload extension is already loaded. To reload it, use:\n",
      "  %reload_ext autoreload\n"
     ]
    }
   ],
   "source": [
    "%load_ext autoreload\n",
    "%autoreload 2\n",
    "    \n",
    "import os\n",
    "import torch\n",
    "import torch.nn as nn\n",
    "import torch.nn.functional as F\n",
    "\n",
    "from socket import gethostname\n",
    "from prokbert.config_utils import *\n",
    "from prokbert.sequtils import *\n",
    "from prokbert. training_utils import *\n",
    "from prokbert.prokbert_tokenizer import ProkBERTTokenizer\n",
    "from prokbert.prok_datasets import IterableProkBERTPretrainingDataset\n",
    "from prokbert.general_utils import *\n",
    "from prokbert.ProkBERTDataCollator import *\n",
    "from transformers import MegatronBertConfig, MegatronBertForMaskedLM, Trainer, TrainingArguments\n",
    "from torch.utils.data import Dataset, DataLoader\n",
    "from transformers import DataCollatorForLanguageModeling\n",
    "from transformers import BertConfig, BertForMaskedLM\n",
    "from socket import gethostname\n",
    "from torch.optim.lr_scheduler import CosineAnnealingLR\n",
    "from transformers import Trainer, AdamW\n",
    "from sklearn.metrics import accuracy_score, f1_score, confusion_matrix, matthews_corrcoef\n",
    "import torch._dynamo\n",
    "\n",
    "basedir = '/home/c_evolb/scratch/gitrepos/prokbert-paper'\n",
    "basedir = '/home/ligeti/gitrepos/prokbert-paper'\n",
    "\n",
    "sys.path.append(join(basedir, 'bin'))\n",
    "from evaluate_training import *\n",
    "from models import *\n",
    "\n",
    "\n",
    "pd.set_option('display.max_rows', 10000)\n",
    "pd.set_option('display.max_columns', 30)\n",
    "#pd.set_option('display.width', 4000)\n",
    "#pd.set_option('display.max_colwidth', None)\n",
    "pd.set_option('display.expand_frame_repr', True)\n",
    "from IPython.core.interactiveshell import InteractiveShell\n",
    "\n",
    "\n",
    "InteractiveShell.ast_node_interactivity = \"all\"\n",
    "\n",
    "%load_ext autoreload\n",
    "%autoreload 2"
   ]
  },
  {
   "cell_type": "code",
   "execution_count": 22,
   "id": "8e72e9bf-f782-4cc2-8fc3-efefab5e2961",
   "metadata": {},
   "outputs": [
    {
     "data": {
      "text/plain": [
       "[2, 1020, 4068, 3972, 1, 1, 1, 1, 1, 1, 1, 1, 2756, 3]"
      ]
     },
     "execution_count": 22,
     "metadata": {},
     "output_type": "execute_result"
    }
   ],
   "source": [
    "from prokbert.prokbert_tokenizer import ProkBERTTokenizer\n",
    "\n",
    "tokenization_parameters = {'kmer' : 6,\n",
    "                          'shift' : 1}\n",
    "tokenizer = ProkBERTTokenizer(tokenization_params=tokenization_parameters)\n",
    "segment='ATTTCTTTNNNGGGTTT'\n",
    "\n",
    "tokenizer.encode(segment)\n",
    "\n"
   ]
  },
  {
   "cell_type": "code",
   "execution_count": null,
   "id": "26c876ee-afbd-47fd-91b3-87c31d510878",
   "metadata": {},
   "outputs": [],
   "source": [
    "\n"
   ]
  },
  {
   "cell_type": "code",
   "execution_count": null,
   "id": "75a14cba-c7b2-470b-9f0f-4e544c588387",
   "metadata": {},
   "outputs": [],
   "source": []
  },
  {
   "cell_type": "code",
   "execution_count": null,
   "id": "03e600fb-7663-4ed6-b64f-a7fc9b257748",
   "metadata": {},
   "outputs": [],
   "source": []
  },
  {
   "cell_type": "code",
   "execution_count": 3,
   "id": "25c8ab92-9690-4c75-a23a-cae9adb02689",
   "metadata": {},
   "outputs": [],
   "source": [
    "\n",
    "promoter_traindb_dir = '/home/c_evolb/scratch/gitrepos/promoter/results'\n",
    "promoter_traindb_dir = '/home/ligeti/gitrepos/promoter/results'\n",
    "\n",
    "training_output_file = join(promoter_traindb_dir, 'promoter_training_data.tsv')\n",
    "test_output_file = join(promoter_traindb_dir, 'promoter_test_data.tsv')\n",
    "val_output_file = join(promoter_traindb_dir, 'promoter_val_data.tsv')\n",
    "\n",
    "## Loading the input data\n",
    "train_segmentdb = pd.read_csv(training_output_file, sep='\\t')\n",
    "test_segmentdb = pd.read_csv(test_output_file, sep='\\t')\n",
    "val_segmentdb = pd.read_csv(val_output_file, sep='\\t')\n",
    "\n"
   ]
  },
  {
   "cell_type": "code",
   "execution_count": null,
   "id": "6cabea51-7336-43fd-8aee-e52c4b557ead",
   "metadata": {},
   "outputs": [],
   "source": []
  },
  {
   "cell_type": "code",
   "execution_count": null,
   "id": "6228a9fc-b2f6-4820-8176-b8f8b229449e",
   "metadata": {},
   "outputs": [],
   "source": []
  },
  {
   "cell_type": "code",
   "execution_count": null,
   "id": "8262cbc3-f3eb-450a-a7e7-9fc24e883f2c",
   "metadata": {},
   "outputs": [],
   "source": []
  }
 ],
 "metadata": {
  "kernelspec": {
   "display_name": "Python 3 (ipykernel)",
   "language": "python",
   "name": "python3"
  },
  "language_info": {
   "codemirror_mode": {
    "name": "ipython",
    "version": 3
   },
   "file_extension": ".py",
   "mimetype": "text/x-python",
   "name": "python",
   "nbconvert_exporter": "python",
   "pygments_lexer": "ipython3",
   "version": "3.10.2"
  }
 },
 "nbformat": 4,
 "nbformat_minor": 5
}
