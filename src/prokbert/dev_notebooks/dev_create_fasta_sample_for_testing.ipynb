{
 "cells": [
  {
   "cell_type": "markdown",
   "id": "b0987ea5-a508-45d0-9b1c-80b962ebed1b",
   "metadata": {},
   "source": [
    "## Developing segmentation related codes and classes\n"
   ]
  },
  {
   "cell_type": "code",
   "execution_count": 47,
   "id": "b1bb07fd-416c-4323-952b-2242a276798c",
   "metadata": {},
   "outputs": [
    {
     "name": "stdout",
     "output_type": "stream",
     "text": [
      "The autoreload extension is already loaded. To reload it, use:\n",
      "  %reload_ext autoreload\n",
      "The autoreload extension is already loaded. To reload it, use:\n",
      "  %reload_ext autoreload\n",
      "Loading sequence data into memory!\n"
     ]
    }
   ],
   "source": [
    "%load_ext autoreload\n",
    "%autoreload 2\n",
    "from transformers import AutoTokenizer, AutoModel, utils\n",
    "#from bertviz import model_view\n",
    "utils.logging.set_verbosity_error()  # Suppress standard warnings\n",
    "import yaml\n",
    "import pathlib\n",
    "from os.path import join\n",
    "import os\n",
    "import sys\n",
    "from Bio.Seq import Seq\n",
    "from Bio.SeqRecord import SeqRecord\n",
    "from Bio import SeqIO\n",
    "\n",
    "current_path = str(pathlib.Path(os.getcwd()).parent)\n",
    "sys.path.append(current_path)\n",
    "\n",
    "#import sys\n",
    "#sys.path.append('../)\n",
    "\n",
    "from config_utils import *\n",
    "from sequtils import *\n",
    "\n",
    "%load_ext autoreload\n",
    "%autoreload 2\n",
    "\n",
    "eskape_fasta = '/scratch/fastscratch/NBL/training_datasets/raw_sequence_sets/ncbi_repr/eskape_repr2023.fasta'\n",
    "\n",
    "contigs = load_contigs([eskape_fasta],IsAddHeader=True,AsDataFrame=True, adding_reverse_complement=False)\n",
    "fasta_ids = ['NC_000913.3', 'NC_007795.1', 'NC_002516.2']\n",
    "sample3 = contigs[contigs.fasta_id.isin(fasta_ids)]\n",
    "\n"
   ]
  },
  {
   "cell_type": "code",
   "execution_count": 50,
   "id": "a9ad2702-43d5-47fa-8794-095f66686a0a",
   "metadata": {},
   "outputs": [
    {
     "name": "stdout",
     "output_type": "stream",
     "text": [
      "NC_000913.3_2524612_2527387\n",
      "NC_007795.1_1702041_1705080\n",
      "NC_002516.2_410266_413817\n",
      "Fasta file '/home/ligeti/github/prokbert/src/prokbert/data/sample_data/ESKAPE_sample.fasta' created with 3 sequences.\n"
     ]
    }
   ],
   "source": [
    "# Dumping fasta\n",
    "\n",
    "random.seed(3)\n",
    "\n",
    "dumping_path = '/home/ligeti/github/prokbert/src/prokbert/data/sample_data/ESKAPE_sample.fasta'\n",
    "\n",
    "Nlseq_min = 2300\n",
    "Nlseq_max = 4300\n",
    "\n",
    "seq_records = []  # List to hold SeqRecord objects\n",
    "for i, rec in sample3.iterrows():\n",
    "\n",
    "    act_seq = rec['sequence']\n",
    "    act_fasta_id = rec['fasta_id']\n",
    "    act_descr = rec['description']\n",
    "\n",
    "    random_sequence_length = Nlseq_min + int((Nlseq_max- Nlseq_min)*random.random())\n",
    "    random_start_pos = int((len(act_seq)-random_sequence_length)*random.random())\n",
    "    random_end_pos = random_start_pos + random_sequence_length\n",
    "    sample_seq = act_seq[random_start_pos:random_end_pos]\n",
    "    sample_description = f'{act_descr} Sample start: {random_start_pos} end {random_end_pos}'\n",
    "\n",
    "    new_id = f'{act_fasta_id}_{random_start_pos}_{random_end_pos}'\n",
    "\n",
    "     # Create a Seq object from the sample_seq string\n",
    "    seq = Seq(sample_seq)\n",
    "    \n",
    "    # Create a SeqRecord object with the Seq, id, and description\n",
    "    seq_record = SeqRecord(seq, id=new_id, description=sample_description)\n",
    "    \n",
    "    # Append the SeqRecord object to the list\n",
    "    seq_records.append(seq_record)\n",
    "    \n",
    "    print(new_id)\n",
    "    \n",
    "# Write the list of SeqRecord objects to a fasta file\n",
    "with open(dumping_path, 'w') as output_handle:\n",
    "    SeqIO.write(seq_records, output_handle, 'fasta')\n",
    "\n",
    "print(f\"Fasta file '{dumping_path}' created with {len(seq_records)} sequences.\")\n",
    "    \n",
    "    \n",
    "    "
   ]
  },
  {
   "cell_type": "code",
   "execution_count": null,
   "id": "491852ba-73f9-4597-889f-0d21667bf129",
   "metadata": {},
   "outputs": [],
   "source": []
  },
  {
   "cell_type": "code",
   "execution_count": null,
   "id": "fd12a5f8-2703-4922-a842-d22cef91fb4a",
   "metadata": {},
   "outputs": [],
   "source": []
  }
 ],
 "metadata": {
  "kernelspec": {
   "display_name": "Python 3 (ipykernel)",
   "language": "python",
   "name": "python3"
  },
  "language_info": {
   "codemirror_mode": {
    "name": "ipython",
    "version": 3
   },
   "file_extension": ".py",
   "mimetype": "text/x-python",
   "name": "python",
   "nbconvert_exporter": "python",
   "pygments_lexer": "ipython3",
   "version": "3.9.9"
  }
 },
 "nbformat": 4,
 "nbformat_minor": 5
}
