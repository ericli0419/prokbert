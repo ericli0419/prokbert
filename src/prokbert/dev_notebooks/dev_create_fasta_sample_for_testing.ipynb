{
 "cells": [
  {
   "cell_type": "markdown",
   "id": "b0987ea5-a508-45d0-9b1c-80b962ebed1b",
   "metadata": {},
   "source": [
    "## Developing segmentation related codes and classes\n"
   ]
  },
  {
   "cell_type": "code",
   "execution_count": 1,
   "id": "b1bb07fd-416c-4323-952b-2242a276798c",
   "metadata": {},
   "outputs": [
    {
     "name": "stderr",
     "output_type": "stream",
     "text": [
      "2023-08-10 14:00:25,041 - INFO - Note: NumExpr detected 48 cores but \"NUMEXPR_MAX_THREADS\" not set, so enforcing safe limit of 8.\n",
      "2023-08-10 14:00:25,042 - INFO - NumExpr defaulting to 8 threads.\n",
      "2023-08-10 14:00:25,615 - INFO - Loading sequence data into memory!\n"
     ]
    },
    {
     "name": "stdout",
     "output_type": "stream",
     "text": [
      "The autoreload extension is already loaded. To reload it, use:\n",
      "  %reload_ext autoreload\n"
     ]
    }
   ],
   "source": [
    "%load_ext autoreload\n",
    "%autoreload 2\n",
    "from transformers import AutoTokenizer, AutoModel, utils\n",
    "#from bertviz import model_view\n",
    "utils.logging.set_verbosity_error()  # Suppress standard warnings\n",
    "import yaml\n",
    "import pathlib\n",
    "from os.path import join\n",
    "import os\n",
    "import sys\n",
    "from Bio.Seq import Seq\n",
    "from Bio.SeqRecord import SeqRecord\n",
    "from Bio import SeqIO\n",
    "\n",
    "current_path = str(pathlib.Path(os.getcwd()).parent)\n",
    "sys.path.append(current_path)\n",
    "\n",
    "#import sys\n",
    "#sys.path.append('../)\n",
    "\n",
    "from config_utils import *\n",
    "from sequtils import *\n",
    "\n",
    "%load_ext autoreload\n",
    "%autoreload 2\n",
    "\n",
    "eskape_fasta = '/scratch/fastscratch/NBL/training_datasets/raw_sequence_sets/ncbi_repr/eskape_repr2023.fasta'\n",
    "\n",
    "contigs = load_contigs([eskape_fasta],IsAddHeader=True,AsDataFrame=True, adding_reverse_complement=False)\n",
    "fasta_ids = ['NC_000913.3', 'NC_007795.1', 'NC_002516.2']\n",
    "sample3 = contigs[contigs.fasta_id.isin(fasta_ids)]\n",
    "\n"
   ]
  },
  {
   "cell_type": "code",
   "execution_count": 50,
   "id": "a9ad2702-43d5-47fa-8794-095f66686a0a",
   "metadata": {},
   "outputs": [
    {
     "name": "stdout",
     "output_type": "stream",
     "text": [
      "NC_000913.3_2524612_2527387\n",
      "NC_007795.1_1702041_1705080\n",
      "NC_002516.2_410266_413817\n",
      "Fasta file '/home/ligeti/github/prokbert/src/prokbert/data/sample_data/ESKAPE_sample.fasta' created with 3 sequences.\n"
     ]
    }
   ],
   "source": [
    "# Dumping fasta\n",
    "\n",
    "random.seed(3)\n",
    "\n",
    "dumping_path = '/home/ligeti/github/prokbert/src/prokbert/data/sample_data/ESKAPE_sample.fasta'\n",
    "\n",
    "Nlseq_min = 2300\n",
    "Nlseq_max = 4300\n",
    "\n",
    "seq_records = []  # List to hold SeqRecord objects\n",
    "for i, rec in sample3.iterrows():\n",
    "\n",
    "    act_seq = rec['sequence']\n",
    "    act_fasta_id = rec['fasta_id']\n",
    "    act_descr = rec['description']\n",
    "\n",
    "    random_sequence_length = Nlseq_min + int((Nlseq_max- Nlseq_min)*random.random())\n",
    "    random_start_pos = int((len(act_seq)-random_sequence_length)*random.random())\n",
    "    random_end_pos = random_start_pos + random_sequence_length\n",
    "    sample_seq = act_seq[random_start_pos:random_end_pos]\n",
    "    sample_description = f'{act_descr} Sample start: {random_start_pos} end {random_end_pos}'\n",
    "\n",
    "    new_id = f'{act_fasta_id}_{random_start_pos}_{random_end_pos}'\n",
    "\n",
    "     # Create a Seq object from the sample_seq string\n",
    "    seq = Seq(sample_seq)\n",
    "    \n",
    "    # Create a SeqRecord object with the Seq, id, and description\n",
    "    seq_record = SeqRecord(seq, id=new_id, description=sample_description)\n",
    "    \n",
    "    # Append the SeqRecord object to the list\n",
    "    seq_records.append(seq_record)\n",
    "    \n",
    "    print(new_id)\n",
    "    \n",
    "# Write the list of SeqRecord objects to a fasta file\n",
    "with open(dumping_path, 'w') as output_handle:\n",
    "    SeqIO.write(seq_records, output_handle, 'fasta')\n",
    "\n",
    "print(f\"Fasta file '{dumping_path}' created with {len(seq_records)} sequences.\")\n",
    "    \n",
    "    \n",
    "    "
   ]
  },
  {
   "cell_type": "markdown",
   "id": "6e032aa1-4d57-462c-a846-6d9d991da955",
   "metadata": {},
   "source": [
    "## Most itt csinálunk N darab fasta file-t a párhuzamos tokenizálás és pretraining létrehozására\n",
    "\n",
    "\n"
   ]
  },
  {
   "cell_type": "code",
   "execution_count": 6,
   "id": "fd12a5f8-2703-4922-a842-d22cef91fb4a",
   "metadata": {},
   "outputs": [
    {
     "name": "stdout",
     "output_type": "stream",
     "text": [
      "ESKAPE_sample00.fasta\n",
      "NC_000913.3_2524612_2527387\n",
      "NC_007795.1_1702041_1705080\n",
      "NC_002516.2_410266_413817\n",
      "Fasta file '/home/ligeti/github/prokbert/src/prokbert/data/sample_data/pretraining/ESKAPE_sample00.fasta' created with 3 sequences.\n",
      "ESKAPE_sample01.fasta\n",
      "NC_000913.3_3885292_3887618\n",
      "NC_007795.1_660471_663289\n",
      "NC_002516.2_2943902_2948193\n",
      "Fasta file '/home/ligeti/github/prokbert/src/prokbert/data/sample_data/pretraining/ESKAPE_sample01.fasta' created with 3 sequences.\n",
      "ESKAPE_sample02.fasta\n",
      "NC_000913.3_2209173_2213145\n",
      "NC_007795.1_424404_427982\n",
      "NC_002516.2_5434688_5438257\n",
      "Fasta file '/home/ligeti/github/prokbert/src/prokbert/data/sample_data/pretraining/ESKAPE_sample02.fasta' created with 3 sequences.\n",
      "ESKAPE_sample03.fasta\n",
      "NC_000913.3_3438152_3441498\n",
      "NC_007795.1_180422_184064\n",
      "NC_002516.2_3700630_3704446\n",
      "Fasta file '/home/ligeti/github/prokbert/src/prokbert/data/sample_data/pretraining/ESKAPE_sample03.fasta' created with 3 sequences.\n",
      "ESKAPE_sample04.fasta\n",
      "NC_000913.3_143855_146757\n",
      "NC_007795.1_1331890_1335921\n",
      "NC_002516.2_5501954_5505691\n",
      "Fasta file '/home/ligeti/github/prokbert/src/prokbert/data/sample_data/pretraining/ESKAPE_sample04.fasta' created with 3 sequences.\n",
      "ESKAPE_sample05.fasta\n",
      "NC_000913.3_4271985_4275713\n",
      "NC_007795.1_2257178_2260267\n",
      "NC_002516.2_5857909_5861098\n",
      "Fasta file '/home/ligeti/github/prokbert/src/prokbert/data/sample_data/pretraining/ESKAPE_sample05.fasta' created with 3 sequences.\n",
      "ESKAPE_sample06.fasta\n",
      "NC_000913.3_451953_456010\n",
      "NC_007795.1_611640_614211\n",
      "NC_002516.2_2730449_2734679\n",
      "Fasta file '/home/ligeti/github/prokbert/src/prokbert/data/sample_data/pretraining/ESKAPE_sample06.fasta' created with 3 sequences.\n",
      "ESKAPE_sample07.fasta\n",
      "NC_000913.3_1396189_1399742\n",
      "NC_007795.1_1087389_1090703\n",
      "NC_002516.2_3663384_3666385\n",
      "Fasta file '/home/ligeti/github/prokbert/src/prokbert/data/sample_data/pretraining/ESKAPE_sample07.fasta' created with 3 sequences.\n",
      "ESKAPE_sample08.fasta\n",
      "NC_000913.3_4193854_4197322\n",
      "NC_007795.1_2617488_2621151\n",
      "NC_002516.2_6203983_6207995\n",
      "Fasta file '/home/ligeti/github/prokbert/src/prokbert/data/sample_data/pretraining/ESKAPE_sample08.fasta' created with 3 sequences.\n",
      "ESKAPE_sample09.fasta\n",
      "NC_000913.3_756457_760099\n",
      "NC_007795.1_2717698_2721719\n",
      "NC_002516.2_3562780_3566889\n",
      "Fasta file '/home/ligeti/github/prokbert/src/prokbert/data/sample_data/pretraining/ESKAPE_sample09.fasta' created with 3 sequences.\n",
      "ESKAPE_sample10.fasta\n",
      "NC_000913.3_979181_982908\n",
      "NC_007795.1_1615868_1619831\n",
      "NC_002516.2_397360_400229\n",
      "Fasta file '/home/ligeti/github/prokbert/src/prokbert/data/sample_data/pretraining/ESKAPE_sample10.fasta' created with 3 sequences.\n"
     ]
    }
   ],
   "source": [
    "N_files = 11\n",
    "dumping_path = '/home/ligeti/github/prokbert/src/prokbert/data/sample_data/pretraining/'\n",
    "\n",
    "base_filename = 'ESKAPE_sample'\n",
    "Nlseq_min = 2300\n",
    "Nlseq_max = 4300\n",
    "random.seed(3)\n",
    "\n",
    "for i in range(N_files):\n",
    "    act_filename = base_filename + str(i).zfill(2) + '.fasta'\n",
    "    print(act_filename)\n",
    "    output_filename = join(dumping_path, act_filename)\n",
    "    seq_records = []  # List to hold SeqRecord objects\n",
    "    for i, rec in sample3.iterrows():\n",
    "        act_seq = rec['sequence']\n",
    "        act_fasta_id = rec['fasta_id']\n",
    "        act_descr = rec['description']\n",
    "    \n",
    "        random_sequence_length = Nlseq_min + int((Nlseq_max- Nlseq_min)*random.random())\n",
    "        random_start_pos = int((len(act_seq)-random_sequence_length)*random.random())\n",
    "        random_end_pos = random_start_pos + random_sequence_length\n",
    "        sample_seq = act_seq[random_start_pos:random_end_pos]\n",
    "        sample_description = f'{act_descr} Sample start: {random_start_pos} end {random_end_pos}'\n",
    "    \n",
    "        new_id = f'{act_fasta_id}_{random_start_pos}_{random_end_pos}'\n",
    "    \n",
    "         # Create a Seq object from the sample_seq string\n",
    "        seq = Seq(sample_seq)\n",
    "        \n",
    "        # Create a SeqRecord object with the Seq, id, and description\n",
    "        seq_record = SeqRecord(seq, id=new_id, description=sample_description)\n",
    "        \n",
    "        # Append the SeqRecord object to the list\n",
    "        seq_records.append(seq_record)\n",
    "        print(new_id)\n",
    "    \n",
    "    # Write the list of SeqRecord objects to a fasta file\n",
    "    with open(output_filename, 'w') as output_handle:\n",
    "        SeqIO.write(seq_records, output_handle, 'fasta')\n",
    "    print(f\"Fasta file '{output_filename}' created with {len(seq_records)} sequences.\")\n",
    "\n",
    "\n"
   ]
  },
  {
   "cell_type": "code",
   "execution_count": null,
   "id": "0aa97b22-9b68-41a9-a6e3-d027b44de2fe",
   "metadata": {},
   "outputs": [],
   "source": []
  }
 ],
 "metadata": {
  "kernelspec": {
   "display_name": "Python 3 (ipykernel)",
   "language": "python",
   "name": "python3"
  },
  "language_info": {
   "codemirror_mode": {
    "name": "ipython",
    "version": 3
   },
   "file_extension": ".py",
   "mimetype": "text/x-python",
   "name": "python",
   "nbconvert_exporter": "python",
   "pygments_lexer": "ipython3",
   "version": "3.9.9"
  }
 },
 "nbformat": 4,
 "nbformat_minor": 5
}
