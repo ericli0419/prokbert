{
 "cells": [
  {
   "cell_type": "markdown",
   "id": "acafb4ea-6d6e-43f4-9808-79d123945d13",
   "metadata": {},
   "source": [
    "# Tokenizálás kidolgozása a preprocesszált adatbázisban\n",
    "Feltételezzük, hogy van egy szegmentált adatbázisunk. A tokenizáló bemenete egy szegmens lista vagy dataframe (ha kellenek ID-k is), paraméterek (tokenizálás paraméterei).\n",
    "\n",
    "Első lépésben implementálni kell a tokenizáló paramétereit. Pl. max token szám, padding szükséges-e, ilyesmik.\n",
    "A tokenizálásnak párhuzamosan is kellene futnia. Ez lehet egy másik paraméter lista, ami tartalmazza ezeket a batch méreteket ilyesmiket. Az offseteket kezelni kell tudni hatékonyan. \n",
    "Kell egy függvény, ami konkrétan 1 darab szegmenst tokenizál helyesen. Babett kódja alapján meg lehet csinálni. \n",
    "\n",
    "\n"
   ]
  },
  {
   "cell_type": "code",
   "execution_count": 3,
   "id": "0f3adb19-b27f-48f0-897e-03673588a9f6",
   "metadata": {
    "scrolled": true
   },
   "outputs": [
    {
     "name": "stderr",
     "output_type": "stream",
     "text": [
      "2023-08-14 11:43:25,115 - INFO - Loading sequence data into memory!\n",
      "2023-08-14 11:43:25,116 - INFO - Since the fasta_files_list is a string, not list, we convert to a list.\n",
      "2023-08-14 11:43:25,128 - INFO - Checking input DataFrame!\n",
      "2023-08-14 11:43:25,129 - INFO - Checking input sequence_id is valid primary key in the DataFrame\n"
     ]
    },
    {
     "name": "stdout",
     "output_type": "stream",
     "text": [
      "The autoreload extension is already loaded. To reload it, use:\n",
      "  %reload_ext autoreload\n",
      "The autoreload extension is already loaded. To reload it, use:\n",
      "  %reload_ext autoreload\n",
      "SEQ_CONFIG_FILE environment variable has not been set. Using default value: /home/ligeti/github/prokbert/src/prokbert/configs/sequence_processing.yaml\n",
      "/home/ligeti/github/prokbert/src/prokbert\n",
      "/home/ligeti/github/prokbert/src/prokbert\n"
     ]
    }
   ],
   "source": [
    "%load_ext autoreload\n",
    "%autoreload 2\n",
    "from transformers import AutoTokenizer, AutoModel, utils\n",
    "#from bertviz import model_view\n",
    "utils.logging.set_verbosity_error()  # Suppress standard warnings\n",
    "import yaml\n",
    "import pathlib\n",
    "from os.path import join\n",
    "import os\n",
    "import sys\n",
    "from Bio.Seq import Seq\n",
    "from Bio.SeqRecord import SeqRecord\n",
    "from Bio import SeqIO\n",
    "\n",
    "current_path = str(pathlib.Path(os.getcwd()).parent)\n",
    "sys.path.append(current_path)\n",
    "\n",
    "#import sys\n",
    "#sys.path.append('../)\n",
    "\n",
    "abs_path = '/home/ligeti/github/prokbert/src/prokbert'\n",
    "sys.path.append(abs_path)\n",
    "\n",
    "\n",
    "from config_utils import *\n",
    "from sequtils import *\n",
    "\n",
    "%load_ext autoreload\n",
    "%autoreload 2\n",
    "\n",
    "defconfig = SeqConfig()\n",
    "segmentation_params = defconfig.get_and_set_segmentation_parameters()  \n",
    "tokenization_params = defconfig.get_and_set_tokenization_params()  \n",
    "\n",
    "samplefasta_file = '/home/ligeti/github/prokbert/src/prokbert/data/sample_data/ESKAPE_sample.fasta'\n",
    "contigs = load_contigs(samplefasta_file,IsAddHeader=True,AsDataFrame=True, adding_reverse_complement=False)\n",
    "contigs['sequence_id'] = [0, 1, 2]\n",
    "segment_db = segment_sequences(contigs, segmentation_params, AsDataFrame = True)\n",
    "\n"
   ]
  },
  {
   "cell_type": "code",
   "execution_count": 7,
   "id": "8739a064-7bcb-495c-9fa3-b11f48db835f",
   "metadata": {},
   "outputs": [
    {
     "name": "stdout",
     "output_type": "stream",
     "text": [
      "/home/ligeti/github/prokbert/src/prokbert\n",
      "/home/ligeti/github/prokbert/src/prokbert\n"
     ]
    },
    {
     "ename": "TypeError",
     "evalue": "get_maximum_token_count_from_max_length() missing 3 required positional arguments: 'max_segment_length', 'shift', and 'kmer'",
     "output_type": "error",
     "traceback": [
      "\u001b[0;31m---------------------------------------------------------------------------\u001b[0m",
      "\u001b[0;31mTypeError\u001b[0m                                 Traceback (most recent call last)",
      "Cell \u001b[0;32mIn[7], line 9\u001b[0m\n\u001b[1;32m      6\u001b[0m tokenization_params \u001b[38;5;241m=\u001b[39m defconfig\u001b[38;5;241m.\u001b[39mget_and_set_tokenization_params({\u001b[38;5;124m'\u001b[39m\u001b[38;5;124mmax_segment_length\u001b[39m\u001b[38;5;124m'\u001b[39m : \u001b[38;5;241m81\u001b[39m,\n\u001b[1;32m      7\u001b[0m                                                                 \u001b[38;5;124m'\u001b[39m\u001b[38;5;124mshift\u001b[39m\u001b[38;5;124m'\u001b[39m : \u001b[38;5;241m2\u001b[39m})\n\u001b[1;32m      8\u001b[0m \u001b[38;5;66;03m#print(tokenization_params)\u001b[39;00m\n\u001b[0;32m----> 9\u001b[0m \u001b[43mdefconfig\u001b[49m\u001b[38;5;241;43m.\u001b[39;49m\u001b[43mget_maximum_token_count_from_max_length\u001b[49m\u001b[43m(\u001b[49m\u001b[43m)\u001b[49m\n\u001b[1;32m     11\u001b[0m tokenization_params \u001b[38;5;241m=\u001b[39m defconfig\u001b[38;5;241m.\u001b[39mget_and_set_tokenization_params({\u001b[38;5;124m'\u001b[39m\u001b[38;5;124mtoken_limit\u001b[39m\u001b[38;5;124m'\u001b[39m : \u001b[38;5;241m41\u001b[39m,\n\u001b[1;32m     12\u001b[0m                                                                 \u001b[38;5;124m'\u001b[39m\u001b[38;5;124mshift\u001b[39m\u001b[38;5;124m'\u001b[39m: \u001b[38;5;241m3\u001b[39m})\n\u001b[1;32m     13\u001b[0m \u001b[38;5;66;03m#print(tokenization_params)\u001b[39;00m\n",
      "\u001b[0;31mTypeError\u001b[0m: get_maximum_token_count_from_max_length() missing 3 required positional arguments: 'max_segment_length', 'shift', and 'kmer'"
     ]
    }
   ],
   "source": [
    "tokenization_params = defconfig.get_and_set_tokenization_params({'token_limit' : 78})\n",
    "#print(tokenization_params)\n",
    "defconfig.get_maximum_segment_length_from_token_count_from_params()\n",
    "\n",
    "\n",
    "tokenization_params = defconfig.get_and_set_tokenization_params({'max_segment_length' : 81,\n",
    "                                                                'shift' : 2})\n",
    "#print(tokenization_params)\n",
    "defconfig.get_maximum_token_count_from_max_length()\n",
    "\n",
    "tokenization_params = defconfig.get_and_set_tokenization_params({'token_limit' : 41,\n",
    "                                                                'shift': 3})\n",
    "#print(tokenization_params)\n",
    "defconfig.get_maximum_token_count_from_max_length_from_params()\n"
   ]
  },
  {
   "cell_type": "code",
   "execution_count": null,
   "id": "b8d4cd70-40c8-4319-8155-c0923601cf28",
   "metadata": {},
   "outputs": [],
   "source": [
    "tokenization_params\n",
    "#tokenization_params['token_limit']\n"
   ]
  },
  {
   "cell_type": "code",
   "execution_count": null,
   "id": "66b965fe-b69c-476a-94d6-18d2c1f96459",
   "metadata": {},
   "outputs": [],
   "source": [
    "defconfig.tokenization_params"
   ]
  },
  {
   "cell_type": "code",
   "execution_count": null,
   "id": "17275ebf-972c-42d1-a2d0-66a69ffe29ea",
   "metadata": {},
   "outputs": [],
   "source": [
    "## Dev issues\n",
    "Mennyi token kell egy adott hosszúságú szekvencia lefedéséhez\n",
    "Egy adott hosszúsághoz mennyi token szükséges\n",
    "\n",
    "(config_utils.py / get_maximum_segment_length_from_token_count,get_maximum_token_count_from_max_length )"
   ]
  },
  {
   "cell_type": "code",
   "execution_count": null,
   "id": "a3800873-fd51-4635-ac5f-c963b43ea178",
   "metadata": {},
   "outputs": [],
   "source": [
    "a = \"True\"\n",
    "if isinstance(a, bool):\n",
    "    print('bool')"
   ]
  },
  {
   "cell_type": "code",
   "execution_count": null,
   "id": "84df7981-ae24-4756-97b1-24da507d0ee0",
   "metadata": {},
   "outputs": [],
   "source": [
    "#SeqConfig.get_maximum_segment_length_from_token_count(78, 1, 6)\n",
    "#SeqConfig.get_maximum_segment_length_from_token_count(78, 1, 6)\n"
   ]
  },
  {
   "cell_type": "code",
   "execution_count": null,
   "id": "a8c443b4-d0ca-446e-b583-2040f8594b2c",
   "metadata": {},
   "outputs": [],
   "source": []
  }
 ],
 "metadata": {
  "kernelspec": {
   "display_name": "Python 3 (ipykernel)",
   "language": "python",
   "name": "python3"
  },
  "language_info": {
   "codemirror_mode": {
    "name": "ipython",
    "version": 3
   },
   "file_extension": ".py",
   "mimetype": "text/x-python",
   "name": "python",
   "nbconvert_exporter": "python",
   "pygments_lexer": "ipython3",
   "version": "3.9.9"
  }
 },
 "nbformat": 4,
 "nbformat_minor": 5
}
