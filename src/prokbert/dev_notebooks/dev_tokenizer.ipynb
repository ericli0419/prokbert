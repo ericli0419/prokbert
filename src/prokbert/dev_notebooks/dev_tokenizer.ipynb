{
 "cells": [
  {
   "cell_type": "code",
   "execution_count": 19,
   "id": "41f2e15d-3056-412c-bbcc-0661c3af360b",
   "metadata": {},
   "outputs": [
    {
     "name": "stdout",
     "output_type": "stream",
     "text": [
      "The autoreload extension is already loaded. To reload it, use:\n",
      "  %reload_ext autoreload\n",
      "The autoreload extension is already loaded. To reload it, use:\n",
      "  %reload_ext autoreload\n",
      "SEQ_CONFIG_FILE environment variable has not been set. Using default value: /home/ligeti/github/prokbert/src/prokbert/configs/sequence_processing.yaml\n",
      "/home/ligeti/github/prokbert/src/prokbert\n",
      "/home/ligeti/github/prokbert/src/prokbert\n",
      "SEQ_CONFIG_FILE environment variable has not been set. Using default value: /home/ligeti/github/prokbert/src/prokbert/configs/sequence_processing.yaml\n",
      "/home/ligeti/github/prokbert/src/prokbert\n",
      "/home/ligeti/github/prokbert/src/prokbert\n"
     ]
    },
    {
     "data": {
      "text/plain": [
       "{'type': 'random', 'min_length': 0, 'max_length': 512, 'coverage': 1.0}"
      ]
     },
     "execution_count": 19,
     "metadata": {},
     "output_type": "execute_result"
    }
   ],
   "source": [
    "%load_ext autoreload\n",
    "%autoreload 2\n",
    "import yaml\n",
    "import pathlib\n",
    "from os.path import join\n",
    "import os\n",
    "import sys\n",
    "from Bio.Seq import Seq\n",
    "from Bio.SeqRecord import SeqRecord\n",
    "from Bio import SeqIO\n",
    "\n",
    "current_path = str(pathlib.Path(os.getcwd()).parent)\n",
    "sys.path.append(current_path)\n",
    "\n",
    "#import sys\n",
    "#sys.path.append('../)\n",
    "\n",
    "from config_utils import *\n",
    "from sequtils import *\n",
    "from prokbert_tokenizer import ProkBERTTokenizer\n",
    "    \n",
    "pd.set_option('display.max_rows', 10000)\n",
    "pd.set_option('display.max_columns', 30)\n",
    "#pd.set_option('display.width', 4000)\n",
    "#pd.set_option('display.max_colwidth', None)\n",
    "pd.set_option('display.expand_frame_repr', True)\n",
    "from IPython.core.interactiveshell import InteractiveShell\n",
    "\n",
    "InteractiveShell.ast_node_interactivity = \"all\"\n",
    "%load_ext autoreload\n",
    "%autoreload 2\n",
    "defconfig = SeqConfig()\n",
    "         \n",
    "segmentation_params = defconfig.get_set_segmentation_parameters({'type': 'random'})\n",
    "tokenization_params = defconfig.get_and_set_tokenization_params({'shift':2})   \n",
    "                   \n",
    "comp_params = defconfig.get_set_computational_paramters()\n",
    "\n",
    "tokenizer = ProkBERTTokenizer(tokenizer_mode='sequence')\n",
    "\n",
    "segmentation_params"
   ]
  },
  {
   "cell_type": "code",
   "execution_count": 47,
   "id": "277f3024-60e9-43d7-a588-1385d000ff9a",
   "metadata": {},
   "outputs": [
    {
     "name": "stdout",
     "output_type": "stream",
     "text": [
      "SEQ_CONFIG_FILE environment variable has not been set. Using default value: /home/ligeti/github/prokbert/src/prokbert/configs/sequence_processing.yaml\n",
      "/home/ligeti/github/prokbert/src/prokbert\n",
      "/home/ligeti/github/prokbert/src/prokbert\n"
     ]
    },
    {
     "data": {
      "text/plain": [
       "'AAAACC'"
      ]
     },
     "execution_count": 47,
     "metadata": {},
     "output_type": "execute_result"
    },
    {
     "data": {
      "text/plain": [
       "'CC'"
      ]
     },
     "execution_count": 47,
     "metadata": {},
     "output_type": "execute_result"
    },
    {
     "data": {
      "text/plain": [
       "[2,\n",
       " 1,\n",
       " 'S]',\n",
       " 'K]',\n",
       " 'K]',\n",
       " 'K]',\n",
       " 'GG',\n",
       " 'GA',\n",
       " 'AA',\n",
       " 'AT',\n",
       " 'TT',\n",
       " 'TA',\n",
       " 'AT',\n",
       " 'TT',\n",
       " 'TA',\n",
       " 'AT',\n",
       " 'TC',\n",
       " 'CG',\n",
       " 'GT',\n",
       " 'P]']"
      ]
     },
     "execution_count": 47,
     "metadata": {},
     "output_type": "execute_result"
    }
   ],
   "source": [
    "# Listát csinál belőle. De előbb nekünk ebből k-mer listák kellenének, ahogy az meg van írva\n",
    "tokens, kmers = tokenizer.tokenize('AASTTAAGGAATTATTATCGT', all=True)\n",
    "#tokenizer.id2token\n",
    "tokenizer = ProkBERTTokenizer(tokenizer_mode='sequence')\n",
    "tokenizer.id2token.get(10, 'NN')\n",
    "tokenizer.id2token.get(10, 'NN')[-2:]\n",
    "tokenizer.convert_ids_to_tokens(tokens[0])\n",
    "\n"
   ]
  },
  {
   "cell_type": "code",
   "execution_count": 9,
   "id": "a102bc6e-800d-4817-8023-0f18ef0a6735",
   "metadata": {},
   "outputs": [
    {
     "ename": "ValueError",
     "evalue": "The segment is longer 21000 then the maximum allowed segment length (1027). ",
     "output_type": "error",
     "traceback": [
      "\u001b[0;31m---------------------------------------------------------------------------\u001b[0m",
      "\u001b[0;31mValueError\u001b[0m                                Traceback (most recent call last)",
      "Cell \u001b[0;32mIn[9], line 2\u001b[0m\n\u001b[1;32m      1\u001b[0m segment \u001b[38;5;241m=\u001b[39m \u001b[38;5;124m'\u001b[39m\u001b[38;5;124mAASTTAAGGAATTATTATCGT\u001b[39m\u001b[38;5;124m'\u001b[39m\u001b[38;5;241m*\u001b[39m\u001b[38;5;241m1000\u001b[39m\n\u001b[0;32m----> 2\u001b[0m \u001b[43mlca_tokenize_segment\u001b[49m\u001b[43m(\u001b[49m\u001b[43msegment\u001b[49m\u001b[43m,\u001b[49m\u001b[43m \u001b[49m\u001b[43mtokenization_params\u001b[49m\u001b[43m)\u001b[49m\n",
      "File \u001b[0;32m~/github/prokbert/src/prokbert/sequtils.py:401\u001b[0m, in \u001b[0;36mlca_tokenize_segment\u001b[0;34m(segment, params)\u001b[0m\n\u001b[1;32m    399\u001b[0m vocabmap \u001b[38;5;241m=\u001b[39m params[\u001b[38;5;124m'\u001b[39m\u001b[38;5;124mvocabmap\u001b[39m\u001b[38;5;124m'\u001b[39m]\n\u001b[1;32m    400\u001b[0m \u001b[38;5;28;01mif\u001b[39;00m \u001b[38;5;28mlen\u001b[39m(segment) \u001b[38;5;241m>\u001b[39m max_segment_length:\n\u001b[0;32m--> 401\u001b[0m     \u001b[38;5;28;01mraise\u001b[39;00m(\u001b[38;5;167;01mValueError\u001b[39;00m(\u001b[38;5;124mf\u001b[39m\u001b[38;5;124m'\u001b[39m\u001b[38;5;124mThe segment is longer \u001b[39m\u001b[38;5;132;01m{\u001b[39;00m\u001b[38;5;28mlen\u001b[39m(segment)\u001b[38;5;132;01m}\u001b[39;00m\u001b[38;5;124m then the maximum allowed segment length (\u001b[39m\u001b[38;5;132;01m{\u001b[39;00mmax_segment_length\u001b[38;5;132;01m}\u001b[39;00m\u001b[38;5;124m). \u001b[39m\u001b[38;5;124m'\u001b[39m))\n\u001b[1;32m    403\u001b[0m kmers_offset \u001b[38;5;241m=\u001b[39m []\n\u001b[1;32m    404\u001b[0m \u001b[38;5;66;03m# For every pssoble offset and window we should get a k-mer vector. \u001b[39;00m\n\u001b[1;32m    405\u001b[0m \u001b[38;5;66;03m# If the segmen is too short or non-existent, then we might have a problem. So, please ensure the segment\u001b[39;00m\n",
      "\u001b[0;31mValueError\u001b[0m: The segment is longer 21000 then the maximum allowed segment length (1027). "
     ]
    }
   ],
   "source": [
    "segment = 'AASTTAAGGAATTATTATCGT'*1000\n",
    "lca_tokenize_segment(segment, tokenization_params)\n",
    "\n"
   ]
  },
  {
   "cell_type": "code",
   "execution_count": 11,
   "id": "f2e69f42-a1f7-4e3e-b6a0-a6b934d5c056",
   "metadata": {},
   "outputs": [
    {
     "data": {
      "text/plain": [
       "1027"
      ]
     },
     "execution_count": 11,
     "metadata": {},
     "output_type": "execute_result"
    },
    {
     "data": {
      "text/plain": [
       "numpy.uint16"
      ]
     },
     "execution_count": 11,
     "metadata": {},
     "output_type": "execute_result"
    }
   ],
   "source": [
    "tokenization_params['max_segment_length']\n",
    "comp_params['np_tokentype']"
   ]
  },
  {
   "cell_type": "code",
   "execution_count": null,
   "id": "657b9bda-d01f-4340-955a-bd1e7778457d",
   "metadata": {},
   "outputs": [],
   "source": []
  }
 ],
 "metadata": {
  "kernelspec": {
   "display_name": "Python 3 (ipykernel)",
   "language": "python",
   "name": "python3"
  },
  "language_info": {
   "codemirror_mode": {
    "name": "ipython",
    "version": 3
   },
   "file_extension": ".py",
   "mimetype": "text/x-python",
   "name": "python",
   "nbconvert_exporter": "python",
   "pygments_lexer": "ipython3",
   "version": "3.9.9"
  }
 },
 "nbformat": 4,
 "nbformat_minor": 5
}
