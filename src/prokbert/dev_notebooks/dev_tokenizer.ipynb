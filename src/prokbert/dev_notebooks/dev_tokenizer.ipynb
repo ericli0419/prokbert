{
 "cells": [
  {
   "cell_type": "markdown",
   "id": "4ab9e784-8ddf-4b59-8379-3f879c0ae9b1",
   "metadata": {},
   "source": [
    "# Tokenizer dev\n",
    "\n"
   ]
  },
  {
   "cell_type": "code",
   "execution_count": 3,
   "id": "41f2e15d-3056-412c-bbcc-0661c3af360b",
   "metadata": {
    "scrolled": true
   },
   "outputs": [
    {
     "name": "stderr",
     "output_type": "stream",
     "text": [
      "2023-08-13 21:58:15,298 - INFO - Nr. line to cover the seq:  4\n"
     ]
    },
    {
     "name": "stdout",
     "output_type": "stream",
     "text": [
      "The autoreload extension is already loaded. To reload it, use:\n",
      "  %reload_ext autoreload\n",
      "The autoreload extension is already loaded. To reload it, use:\n",
      "  %reload_ext autoreload\n",
      "SEQ_CONFIG_FILE environment variable has not been set. Using default value: /home/ligeti/github/prokbert/src/prokbert/configs/sequence_processing.yaml\n",
      "/home/ligeti/github/prokbert/src/prokbert\n",
      "SEQ_CONFIG_FILE environment variable has not been set. Using default value: /home/ligeti/github/prokbert/src/prokbert/configs/sequence_processing.yaml\n",
      "/home/ligeti/github/prokbert/src/prokbert\n",
      "/home/ligeti/github/prokbert/src/prokbert\n",
      "Segment sequence AATCAAGGAATTATTATCGTT\n",
      "Tokens:   \n",
      "[2, 213, 3343, 165, 2580, 248, 3905, 978, 3296, 3]\n",
      "[2, 839, 1069, 648, 2113, 980, 3320, 3899, 884, 3]\n",
      "___________________\n",
      "Kmers:   \n",
      "['AATCAA', 'TCAAGG', 'AAGGAA', 'GGAATT', 'AATTAT', 'TTATTA', 'ATTATC', 'TATCGT']\n",
      "['ATCAAG', 'CAAGGA', 'AGGAAT', 'GAATTA', 'ATTATT', 'TATTAT', 'TTATCG', 'ATCGTT']\n",
      "___________________\n",
      "Restore the original string:\n",
      "[]\n",
      "['AATCAA']\n",
      "    AATCAAAAGGAATTATTATCGT\n",
      "    AATCAAGGAATTATTATCGTT\n",
      "0.  AATCAA  AATTAT\n",
      "1.    TCAAGG  TTATTA\n",
      "2.      AAGGAA  ATTATC\n",
      "3.        GGAATT  TATCGT\n",
      "Checking, windows = 0\n",
      "['AATCAA', 'TCAAGG', 'AAGGAA', 'GGAATT', 'AATTAT', 'TTATTA', 'ATTATC', 'TATCGT']\n",
      "Checking, all == True\n",
      "([[2, 213, 3343, 165, 2580, 248, 3905, 978, 3296, 3], [2, 839, 1069, 648, 2113, 980, 3320, 3899, 884, 3]], [['AATCAA', 'TCAAGG', 'AAGGAA', 'GGAATT', 'AATTAT', 'TTATTA', 'ATTATC', 'TATCGT'], ['ATCAAG', 'CAAGGA', 'AGGAAT', 'GAATTA', 'ATTATT', 'TATTAT', 'TTATCG', 'ATCGTT']])\n"
     ]
    }
   ],
   "source": [
    "%load_ext autoreload\n",
    "%autoreload 2\n",
    "import yaml\n",
    "import pathlib\n",
    "from os.path import join\n",
    "import os\n",
    "import sys\n",
    "from Bio.Seq import Seq\n",
    "from Bio.SeqRecord import SeqRecord\n",
    "from Bio import SeqIO\n",
    "\n",
    "current_path = str(pathlib.Path(os.getcwd()).parent)\n",
    "sys.path.append(current_path)\n",
    "\n",
    "#import sys\n",
    "#sys.path.append('../)\n",
    "\n",
    "from config_utils import *\n",
    "from sequtils import *\n",
    "from prokbert_tokenizer import ProkBERTTokenizer\n",
    "    \n",
    "pd.set_option('display.max_rows', 10000)\n",
    "pd.set_option('display.max_columns', 30)\n",
    "#pd.set_option('display.width', 4000)\n",
    "#pd.set_option('display.max_colwidth', None)\n",
    "pd.set_option('display.expand_frame_repr', True)\n",
    "from IPython.core.interactiveshell import InteractiveShell\n",
    "\n",
    "InteractiveShell.ast_node_interactivity = \"all\"\n",
    "%load_ext autoreload\n",
    "%autoreload 2\n",
    "defconfig = SeqConfig()\n",
    "         \n",
    "segmentation_params = {'type': 'random'}\n",
    "tokenization_params = {'shift':2} \n",
    "                   \n",
    "comp_params = defconfig.get_set_computational_paramters()\n",
    "tokenizer = ProkBERTTokenizer(tokenization_params=tokenization_params, \n",
    "                              segmentation_params=segmentation_params,\n",
    "                              operation_space='sequence')\n",
    "segment = 'AATCAAGGAATTATTATCGTT'\n",
    "print(f'Segment sequence {segment}')\n",
    "tokens, kmers = tokenizer.tokenize(segment, all=True)\n",
    "print('Tokens:   ')\n",
    "for tokenset in tokens:\n",
    "       print(str(tokenset))\n",
    "print('___________________')\n",
    "         \n",
    "print('Kmers:   ')\n",
    "for tokenset in kmers:\n",
    "       print(str(tokenset))\n",
    "print('___________________')\n",
    "         \n",
    "         \n",
    "print('Restore the original string:')\n",
    "seq_toks = tokenizer.convert_ids_to_tokens(tokens[0])\n",
    "print('    ' + ''.join(seq_toks))\n",
    "\n",
    "s = pretty_print_overlapping_sequence(segment, kmers[0], tokenizer.tokenization_params)\n",
    "print(s)\n",
    "\n",
    "print('Checking, windows = 0')\n",
    "lca_kmers = tokenizer.tokenize(segment, lca_shift=0)\n",
    "print(str(lca_kmers))\n",
    "\n",
    "print('Checking, all == True')\n",
    "lca_kmers = tokenizer.tokenize(segment, all=True)\n",
    "print(str(lca_kmers))\n",
    "\n"
   ]
  },
  {
   "cell_type": "markdown",
   "id": "97ca924a-8307-4459-b0bf-eb74e778035c",
   "metadata": {},
   "source": [
    "## Checking for k-mer space\n"
   ]
  },
  {
   "cell_type": "code",
   "execution_count": 4,
   "id": "024e12bb-316d-4c13-9049-a7736adcf561",
   "metadata": {},
   "outputs": [
    {
     "data": {
      "text/plain": [
       "['AATCAA', 'AA', 'GG', 'AA', 'TT', 'AT', 'TA', 'TC', 'GT']"
      ]
     },
     "execution_count": 4,
     "metadata": {},
     "output_type": "execute_result"
    }
   ],
   "source": [
    "seq_toks\n"
   ]
  },
  {
   "cell_type": "code",
   "execution_count": null,
   "id": "a915082f-85f0-4c5a-ae8e-9c03d1f5c553",
   "metadata": {},
   "outputs": [],
   "source": []
  },
  {
   "cell_type": "code",
   "execution_count": null,
   "id": "a0dc3ff0-e854-4d0e-94d8-c5c497646ed9",
   "metadata": {},
   "outputs": [],
   "source": []
  },
  {
   "cell_type": "code",
   "execution_count": 3,
   "id": "277f3024-60e9-43d7-a588-1385d000ff9a",
   "metadata": {},
   "outputs": [
    {
     "name": "stdout",
     "output_type": "stream",
     "text": [
      "[]\n",
      "['AATCAA']\n"
     ]
    },
    {
     "data": {
      "text/plain": [
       "['AATCAA', 'CAA', 'AGG', 'GAA', 'ATT', 'TAT', 'TTA', 'ATC', 'CGT']"
      ]
     },
     "execution_count": 3,
     "metadata": {},
     "output_type": "execute_result"
    }
   ],
   "source": [
    "# Listát csinál belőle. De előbb nekünk ebből k-mer listák kellenének, ahogy az meg van írva\n",
    "segment = 'AATCAAGGAATTATTATCGTT'\n",
    "\n",
    "tokens, kmers = tokenizer.tokenize(segment, all=True)\n",
    "#tokenizer.id2token\n",
    "#tokenizer = ProkBERTTokenizer(operation_space='sequence')\n",
    "#tokenizer.id2token.get(10, 'NN')\n",
    "#tokenizer.id2token.get(10, 'NN')[-2:]\n",
    "#print(tokens[0])\n",
    "#print(kmers[0])\n",
    "#print(kmers[0])\n",
    "seq_toks = tokenizer.convert_ids_to_tokens(tokens[0])\n",
    "seq_toks\n",
    "# Nem tudja lefedni, akkor az uccsó az hiányozhat, mivel nem teljesen egyértelmű, hogy pontosan mi is van. \n",
    "#print(''.join(seq_toks))\n",
    "#print(segment)\n"
   ]
  },
  {
   "cell_type": "code",
   "execution_count": 4,
   "id": "bd2f223f-2268-4d5d-ad43-ec247768db1d",
   "metadata": {},
   "outputs": [
    {
     "name": "stderr",
     "output_type": "stream",
     "text": [
      "2023-08-13 21:39:07,557 - INFO - Nr. line to cover the seq:  4\n"
     ]
    }
   ],
   "source": [
    "#tokens[0]\n",
    "#kmers[0]\n",
    "#\n",
    "s = pretty_print_overlapping_sequence(segment, kmers[0], tokenizer.tokenization_params)\n",
    "#print(s)"
   ]
  },
  {
   "cell_type": "raw",
   "id": "6e1b31cf-7a8f-4727-a378-ea802399e687",
   "metadata": {},
   "source": [
    "    AATTAAGGAATTATTATCGT\n",
    "    AATTAAGGAATTATTATCGT\n",
    "0.  AATTAA  AATTAT\n",
    "1.    TTAAGG  TTATTA\n",
    "2.      AAGGAA  ATTATC\n",
    "3.        GGAATT  TATCGT\n"
   ]
  },
  {
   "cell_type": "code",
   "execution_count": 5,
   "id": "f383bbf0-dbac-4e8d-a10f-e2b0b13a212c",
   "metadata": {},
   "outputs": [
    {
     "data": {
      "text/plain": [
       "{'input_ids': [['AASTTA',\n",
       "   'STTAAG',\n",
       "   'TAAGGA',\n",
       "   'AGGAAT',\n",
       "   'GAATTA',\n",
       "   'ATTATT',\n",
       "   'TATTAT',\n",
       "   'TTATCG'],\n",
       "  ['TCCGTA',\n",
       "   'CGTAAS',\n",
       "   'TAASTT',\n",
       "   'ASTTAA',\n",
       "   'TTAAGG',\n",
       "   'AAGGAA',\n",
       "   'GGAATT',\n",
       "   'AATTAT',\n",
       "   'TTATTA',\n",
       "   'ATTATC',\n",
       "   'TATCGT']]}"
      ]
     },
     "execution_count": 5,
     "metadata": {},
     "output_type": "execute_result"
    }
   ],
   "source": [
    "seqs = ['AASTTAAGGAATTATTATCGT', 'TCCGTAASTTAAGGAATTATTATCGT']\n",
    "tokenizer.batch_encode_plus(seqs)\n"
   ]
  },
  {
   "cell_type": "code",
   "execution_count": null,
   "id": "32f11e46-1727-49e9-8803-9315476a0c7e",
   "metadata": {},
   "outputs": [],
   "source": []
  }
 ],
 "metadata": {
  "kernelspec": {
   "display_name": "Python 3 (ipykernel)",
   "language": "python",
   "name": "python3"
  },
  "language_info": {
   "codemirror_mode": {
    "name": "ipython",
    "version": 3
   },
   "file_extension": ".py",
   "mimetype": "text/x-python",
   "name": "python",
   "nbconvert_exporter": "python",
   "pygments_lexer": "ipython3",
   "version": "3.9.9"
  }
 },
 "nbformat": 4,
 "nbformat_minor": 5
}
