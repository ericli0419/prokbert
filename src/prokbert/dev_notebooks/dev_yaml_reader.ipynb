{
 "cells": [
  {
   "cell_type": "code",
   "execution_count": 54,
   "id": "f01e890a-bf20-4217-9bb6-43bcaca76473",
   "metadata": {},
   "outputs": [
    {
     "name": "stdout",
     "output_type": "stream",
     "text": [
      "The autoreload extension is already loaded. To reload it, use:\n",
      "  %reload_ext autoreload\n",
      "The autoreload extension is already loaded. To reload it, use:\n",
      "  %reload_ext autoreload\n"
     ]
    }
   ],
   "source": [
    "%load_ext autoreload\n",
    "%autoreload 2\n",
    "from transformers import AutoTokenizer, AutoModel, utils\n",
    "#from bertviz import model_view\n",
    "utils.logging.set_verbosity_error()  # Suppress standard warnings\n",
    "import yaml\n",
    "import pathlib\n",
    "from os.path import join\n",
    "import os\n",
    "import sys\n",
    "current_path = str(pathlib.Path(os.getcwd()).parent)\n",
    "sys.path.append(current_path)\n",
    "\n",
    "#import sys\n",
    "#sys.path.append('../)\n",
    "\n",
    "from config_utils import *\n",
    "\n",
    "\n",
    "%load_ext autoreload\n",
    "%autoreload 2\n",
    "\n"
   ]
  },
  {
   "cell_type": "code",
   "execution_count": 55,
   "id": "ebc2b95f-fd8c-492d-afe5-d6fa458bf793",
   "metadata": {},
   "outputs": [
    {
     "name": "stdout",
     "output_type": "stream",
     "text": [
      "SEQ_CONFIG_FILE environment variable has not been set. Using default value: /home/ligeti/github/prokbert/src/prokbert/configs/sequence_processing.yaml\n"
     ]
    }
   ],
   "source": [
    "defconfig = SeqConfig()\n",
    "\n"
   ]
  },
  {
   "cell_type": "code",
   "execution_count": 56,
   "id": "f5b61a28-9c1e-4189-bddc-bb7776ba91b4",
   "metadata": {},
   "outputs": [
    {
     "data": {
      "text/plain": [
       "{'type': {'default': 'contiguous',\n",
       "  'type': 'string',\n",
       "  'description': \"The segmentation type. 'contiguous' refers to end-to-end, disjoint sections of the sequence without overlaps.\",\n",
       "  'constraints': {'options': ['contiguous', 'random']}},\n",
       " 'min_length': {'default': 0,\n",
       "  'type': 'integer',\n",
       "  'description': 'The minimum length of a segment. Segments shorter than this value will be discarded.',\n",
       "  'constraints': {'min': 0}},\n",
       " 'max_length': {'default': 512,\n",
       "  'type': 'integer',\n",
       "  'description': 'The maximum allowable segment length.',\n",
       "  'constraints': {'min': 0}}}"
      ]
     },
     "execution_count": 56,
     "metadata": {},
     "output_type": "execute_result"
    }
   ],
   "source": [
    "defconfig.parameters['segmentation']\n"
   ]
  },
  {
   "cell_type": "code",
   "execution_count": 57,
   "id": "15a548ea-9b28-4f8b-8708-abe615cb59df",
   "metadata": {},
   "outputs": [],
   "source": [
    "defconfig.get_parameter('segmentation', 'type')\n",
    "defconfig.validate('segmentation', 'type', 'random')\n"
   ]
  },
  {
   "cell_type": "code",
   "execution_count": null,
   "id": "6615875a-ef5e-4fbe-af56-5be2dfd51925",
   "metadata": {},
   "outputs": [],
   "source": []
  },
  {
   "cell_type": "code",
   "execution_count": null,
   "id": "1c50b16f-5ae7-4fee-93d6-02bc16a4d5d2",
   "metadata": {},
   "outputs": [],
   "source": []
  }
 ],
 "metadata": {
  "kernelspec": {
   "display_name": "Python 3 (ipykernel)",
   "language": "python",
   "name": "python3"
  },
  "language_info": {
   "codemirror_mode": {
    "name": "ipython",
    "version": 3
   },
   "file_extension": ".py",
   "mimetype": "text/x-python",
   "name": "python",
   "nbconvert_exporter": "python",
   "pygments_lexer": "ipython3",
   "version": "3.9.9"
  }
 },
 "nbformat": 4,
 "nbformat_minor": 5
}
